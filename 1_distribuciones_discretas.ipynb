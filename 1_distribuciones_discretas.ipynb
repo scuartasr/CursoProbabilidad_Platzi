{
 "cells": [
  {
   "attachments": {},
   "cell_type": "markdown",
   "metadata": {},
   "source": [
    "# Distribuciones discretas\n",
    "\n",
    "## Distribución Bernoulli\n",
    "\n",
    "Se emplea en situaciones en la que la variable aleatorio $X$ solo puede tomar dos valores, donde la probabilidad de ocurrencia de uno de estos eventos es $p$.\n",
    "\n",
    "## Distribución binomial\n",
    "\n",
    "Es una generalización de la distribución Bernoulli, en el sentido que se estudian situaciones en las que ocurren $n$ eventos Bernoulli independientes (si $n = 1$, es simplemente una distribución Bernoulli). La probabilidad de ocurrencia del evento de interés es $p$. Luego si $X$ es una variable alatoria discreta que se distribuye como una binomial, esto se indica com $X \\sim \\text{Binomial} (n, \\ p)$, y la distribución de probabilidad viene dada por:\n",
    "\n",
    "$$\\mathbb{P} (X = x) = {n \\choose k} p^x (1-p)^{(n-x)}$$\n",
    "\n",
    "## Distribución binomial\n",
    "\n",
    "Es una distribución análoga a la binomial, pero se diferencia en que en este caso se conisderan $X_1, \\ X_2, \\ \\dots, \\ X_n$ variables Bernoulli, donde la variable aleatoria $X_i$ con $i = 1, \\ 2, \\ \\dots, \\ n$, toma el correspondiente evento de interés con probabilidad $p_i$. La fórmula de la función de masa de probabilidad es:\n",
    "\n",
    "$$\\mathbb{P} (X_1 = x_1, \\ X_2 = x_2, \\ \\dots, \\ X_n = x_n) = \\frac{n!}{k_1! k_2! \\cdots k_n!} p_1 ^ {x_1} p_2^{k_2} \\cdots p_n^{x_n}$$\n",
    "\n",
    "Otras distribuciones son: Poisson, geométrica, hipergeométrica y binomial negativa."
   ]
  },
  {
   "cell_type": "code",
   "execution_count": 14,
   "metadata": {},
   "outputs": [],
   "source": [
    "import numpy as np\n",
    "from numpy.random import binomial\n",
    "from scipy.stats import binom\n",
    "from math import factorial\n",
    "from matplotlib import pyplot as plt"
   ]
  },
  {
   "attachments": {},
   "cell_type": "markdown",
   "metadata": {},
   "source": [
    "Estudiemos la sintaxis para poder cálcular probabilidades de la distribución Bernoulli en Python:"
   ]
  },
  {
   "cell_type": "code",
   "execution_count": 15,
   "metadata": {},
   "outputs": [],
   "source": [
    "def distr_binomial(x, n, p):\n",
    "    return factorial(n) / (factorial(x) * factorial(n - x)) * pow(p, x) * pow(1 - p, n - x)"
   ]
  },
  {
   "cell_type": "code",
   "execution_count": 16,
   "metadata": {},
   "outputs": [
    {
     "data": {
      "text/plain": [
       "0.375"
      ]
     },
     "execution_count": 16,
     "metadata": {},
     "output_type": "execute_result"
    }
   ],
   "source": [
    "distr_binomial(2, 3, 0.5)"
   ]
  },
  {
   "attachments": {},
   "cell_type": "markdown",
   "metadata": {},
   "source": [
    "Sin embargo, no es necesario definir de manera manual la fórmula de la masa de probabilidad de distribuciones discretas como la binomial, sino que hay funciones de algunos paquetes como `scipy` que realizan este cálculo."
   ]
  },
  {
   "cell_type": "code",
   "execution_count": 17,
   "metadata": {},
   "outputs": [
    {
     "data": {
      "text/plain": [
       "0.3750000000000001"
      ]
     },
     "execution_count": 17,
     "metadata": {},
     "output_type": "execute_result"
    }
   ],
   "source": [
    "# Definición de la distribución X ~ Binom(n, p)\n",
    "dist = binom(3, 0.5)\n",
    "\n",
    "# Cálculo de P(X = 2)\n",
    "dist.pmf(2)"
   ]
  },
  {
   "attachments": {},
   "cell_type": "markdown",
   "metadata": {},
   "source": [
    "Si lo que nos interesa es la distribución de probabilidad acumulada, entonces:"
   ]
  },
  {
   "cell_type": "code",
   "execution_count": 18,
   "metadata": {},
   "outputs": [
    {
     "data": {
      "text/plain": [
       "0.875"
      ]
     },
     "execution_count": 18,
     "metadata": {},
     "output_type": "execute_result"
    }
   ],
   "source": [
    "dist.cdf(2)"
   ]
  },
  {
   "cell_type": "code",
   "execution_count": 21,
   "metadata": {},
   "outputs": [
    {
     "data": {
      "text/plain": [
       "0.875"
      ]
     },
     "execution_count": 21,
     "metadata": {},
     "output_type": "execute_result"
    }
   ],
   "source": [
    "distribucion = binom(3, 0.5)\n",
    "distribucion.cdf(2)"
   ]
  },
  {
   "cell_type": "code",
   "execution_count": 24,
   "metadata": {},
   "outputs": [
    {
     "data": {
      "text/plain": [
       "0.875"
      ]
     },
     "execution_count": 24,
     "metadata": {},
     "output_type": "execute_result"
    }
   ],
   "source": [
    "7/8"
   ]
  }
 ],
 "metadata": {
  "kernelspec": {
   "display_name": "Python 3",
   "language": "python",
   "name": "python3"
  },
  "language_info": {
   "codemirror_mode": {
    "name": "ipython",
    "version": 3
   },
   "file_extension": ".py",
   "mimetype": "text/x-python",
   "name": "python",
   "nbconvert_exporter": "python",
   "pygments_lexer": "ipython3",
   "version": "3.10.4"
  },
  "orig_nbformat": 4
 },
 "nbformat": 4,
 "nbformat_minor": 2
}
